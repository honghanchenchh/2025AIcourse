{
 "cells": [
  {
   "cell_type": "markdown",
   "metadata": {},
   "source": [
    "# <font color=blue> 练习3. 猫狗大战 <blue>"
   ]
  },
  {
   "cell_type": "markdown",
   "metadata": {},
   "source": [
    "## <font color=blue>1 目标 </font>"
   ]
  },
  {
   "cell_type": "markdown",
   "metadata": {},
   "source": [
    "在完成本节时，您将能够：\n",
    "* 学会使用kaggle在线数据集\n",
    "* 自己定义一个CNN模型\n",
    "* 训练CNN模型并观察结果"
   ]
  },
  {
   "cell_type": "code",
   "execution_count": 1,
   "metadata": {
    "execution": {
     "iopub.execute_input": "2025-03-24T10:17:29.218377Z",
     "iopub.status.busy": "2025-03-24T10:17:29.218186Z",
     "iopub.status.idle": "2025-03-24T10:17:33.613370Z",
     "shell.execute_reply": "2025-03-24T10:17:33.612467Z",
     "shell.execute_reply.started": "2025-03-24T10:17:29.218358Z"
    }
   },
   "outputs": [
    {
     "data": {
      "text/plain": [
       "True"
      ]
     },
     "execution_count": 1,
     "metadata": {},
     "output_type": "execute_result"
    }
   ],
   "source": [
    "import torch.nn as nn\n",
    "import pandas as pd\n",
    "import torch\n",
    "from torch.optim import Adam\n",
    "from torch.utils.data import Dataset, DataLoader\n",
    "\n",
    "from IPython.display import Image #Image用来显示说明图像\n",
    "\n",
    "import os \n",
    "os.environ['CUDA_LAUNCH_BLOCKING']='1'\n",
    "\n",
    "device = torch.device(\"cuda\" if torch.cuda.is_available() else \"cpu\")\n",
    "torch.cuda.is_available()"
   ]
  },
  {
   "cell_type": "markdown",
   "metadata": {},
   "source": [
    "## <font color=blue>2 加载数据集 </font>"
   ]
  },
  {
   "cell_type": "code",
   "execution_count": 2,
   "metadata": {
    "execution": {
     "iopub.execute_input": "2025-03-24T10:19:44.804960Z",
     "iopub.status.busy": "2025-03-24T10:19:44.804573Z",
     "iopub.status.idle": "2025-03-24T10:19:44.810116Z",
     "shell.execute_reply": "2025-03-24T10:19:44.809262Z",
     "shell.execute_reply.started": "2025-03-24T10:19:44.804932Z"
    }
   },
   "outputs": [
    {
     "name": "stdout",
     "output_type": "stream",
     "text": [
      "['sign-language-mnist-24label']\n"
     ]
    }
   ],
   "source": [
    "#产看数据集目录情况\n",
    "print(os.listdir('../input'))"
   ]
  },
  {
   "cell_type": "code",
   "execution_count": 4,
   "metadata": {
    "execution": {
     "iopub.execute_input": "2025-03-24T10:20:14.236590Z",
     "iopub.status.busy": "2025-03-24T10:20:14.236297Z",
     "iopub.status.idle": "2025-03-24T10:20:17.693900Z",
     "shell.execute_reply": "2025-03-24T10:20:17.693202Z",
     "shell.execute_reply.started": "2025-03-24T10:20:14.236563Z"
    }
   },
   "outputs": [],
   "source": [
    "train_df = pd.read_csv('../input/sign-language-mnist-24label/sign_mnist_train.csv')\n",
    "valid_df = pd.read_csv('../input/sign-language-mnist-24label/sign_mnist_valid.csv')"
   ]
  },
  {
   "cell_type": "markdown",
   "metadata": {},
   "source": [
    "提取前5行数据观察"
   ]
  },
  {
   "cell_type": "code",
   "execution_count": 5,
   "metadata": {
    "execution": {
     "iopub.execute_input": "2025-03-24T10:20:23.028539Z",
     "iopub.status.busy": "2025-03-24T10:20:23.028210Z",
     "iopub.status.idle": "2025-03-24T10:20:23.070792Z",
     "shell.execute_reply": "2025-03-24T10:20:23.069129Z",
     "shell.execute_reply.started": "2025-03-24T10:20:23.028513Z"
    }
   },
   "outputs": [
    {
     "data": {
      "text/plain": [
       "array([[107, 118, 127, ..., 204, 203, 202],\n",
       "       [155, 157, 156, ..., 103, 135, 149],\n",
       "       [187, 188, 188, ..., 195, 194, 195],\n",
       "       [211, 211, 212, ..., 222, 229, 163],\n",
       "       [164, 167, 170, ..., 163, 164, 179]])"
      ]
     },
     "execution_count": 5,
     "metadata": {},
     "output_type": "execute_result"
    }
   ],
   "source": [
    "sample_df = train_df.head().copy()  # Grab the top 5 rows\n",
    "sample_df.pop('label')\n",
    "sample_x = sample_df.values\n",
    "sample_x"
   ]
  },
  {
   "cell_type": "code",
   "execution_count": 6,
   "metadata": {
    "execution": {
     "iopub.execute_input": "2025-03-24T10:20:25.421894Z",
     "iopub.status.busy": "2025-03-24T10:20:25.421542Z",
     "iopub.status.idle": "2025-03-24T10:20:25.427637Z",
     "shell.execute_reply": "2025-03-24T10:20:25.426759Z",
     "shell.execute_reply.started": "2025-03-24T10:20:25.421856Z"
    }
   },
   "outputs": [
    {
     "data": {
      "text/plain": [
       "(5, 784)"
      ]
     },
     "execution_count": 6,
     "metadata": {},
     "output_type": "execute_result"
    }
   ],
   "source": [
    "sample_x.shape"
   ]
  },
  {
   "cell_type": "markdown",
   "metadata": {},
   "source": [
    "上面 28x28 像素的仍然是按照向量表示，不是图片，丢失像素位置和关联信息\n",
    "\n",
    "对于我们模型的第一个卷积层，我们不仅需要图像的高度和宽度，还需要颜色通道的数量。我们的图像是灰度的，所以只有 1 个通道。\n",
    "\n",
    "这意味着需要将当前形状 (5, 784) 转换为 (5, 1, 28, 28)。使用 NumPy 数组，我们可以为任何我们希望保持不变的维度传递 -1。"
   ]
  },
  {
   "cell_type": "code",
   "execution_count": 7,
   "metadata": {
    "execution": {
     "iopub.execute_input": "2025-03-24T10:21:32.511738Z",
     "iopub.status.busy": "2025-03-24T10:21:32.511410Z",
     "iopub.status.idle": "2025-03-24T10:21:32.517635Z",
     "shell.execute_reply": "2025-03-24T10:21:32.516879Z",
     "shell.execute_reply.started": "2025-03-24T10:21:32.511712Z"
    }
   },
   "outputs": [
    {
     "data": {
      "text/plain": [
       "(5, 1, 28, 28)"
      ]
     },
     "execution_count": 7,
     "metadata": {},
     "output_type": "execute_result"
    }
   ],
   "source": [
    "IMG_HEIGHT = 28\n",
    "IMG_WIDTH = 28\n",
    "IMG_CHS = 1\n",
    "\n",
    "sample_x = sample_x.reshape(-1, IMG_CHS, IMG_HEIGHT, IMG_WIDTH)\n",
    "sample_x.shape"
   ]
  },
  {
   "cell_type": "markdown",
   "metadata": {},
   "source": [
    "## <font color=blue>3 创建数据读取类 </font>"
   ]
  },
  {
   "cell_type": "code",
   "execution_count": 8,
   "metadata": {
    "execution": {
     "iopub.execute_input": "2025-03-24T10:21:45.900788Z",
     "iopub.status.busy": "2025-03-24T10:21:45.900494Z",
     "iopub.status.idle": "2025-03-24T10:21:45.906229Z",
     "shell.execute_reply": "2025-03-24T10:21:45.905443Z",
     "shell.execute_reply.started": "2025-03-24T10:21:45.900769Z"
    }
   },
   "outputs": [],
   "source": [
    "IMG_HEIGHT = 28\n",
    "IMG_WIDTH = 28\n",
    "IMG_CHS = 1\n",
    "class MyDataset(Dataset):\n",
    "    def __init__(self,df):\n",
    "        x_df=df.copy()\n",
    "        y_df = x_df.pop('label')\n",
    "        x_df = x_df.values/ 255  # Normalize values from 0 to 1\n",
    "        x_df = x_df.reshape(-1, IMG_CHS, IMG_WIDTH, IMG_HEIGHT)\n",
    "        self.xs = torch.tensor(x_df).float().to(device)\n",
    "        self.ys = torch.tensor(y_df).to(device)\n",
    "\n",
    "    def __getitem__(self, idx):\n",
    "        x = self.xs[idx]\n",
    "        y = self.ys[idx]\n",
    "        return x, y\n",
    "\n",
    "    def __len__(self):\n",
    "        return len(self.xs)\n",
    "        return len(self.xs)"
   ]
  },
  {
   "cell_type": "markdown",
   "metadata": {},
   "source": [
    "注意数据加载器中，什么函数调用需要调用 shuffle=True 参数？"
   ]
  },
  {
   "cell_type": "code",
   "execution_count": 9,
   "metadata": {
    "execution": {
     "iopub.execute_input": "2025-03-24T10:22:34.718620Z",
     "iopub.status.busy": "2025-03-24T10:22:34.718278Z",
     "iopub.status.idle": "2025-03-24T10:22:35.511392Z",
     "shell.execute_reply": "2025-03-24T10:22:35.510644Z",
     "shell.execute_reply.started": "2025-03-24T10:22:34.718597Z"
    }
   },
   "outputs": [],
   "source": [
    "BATCH_SIZE = 8\n",
    "\n",
    "train_data = MyDataset(train_df)\n",
    "train_loader = DataLoader(train_data, batch_size=BATCH_SIZE,shuffle=True)  #train_loader = DataLoader(train_data, batch_size=BATCH_SIZE)\n",
    "train_N = len(train_loader.dataset)\n",
    "\n",
    "valid_data = MyDataset(valid_df)\n",
    "valid_loader = DataLoader(valid_data, batch_size=BATCH_SIZE)\n",
    "valid_N = len(valid_loader.dataset)"
   ]
  },
  {
   "cell_type": "markdown",
   "metadata": {},
   "source": [
    "## <font color=blue>4 创建CNN模型 </font>"
   ]
  },
  {
   "cell_type": "code",
   "execution_count": 10,
   "metadata": {
    "execution": {
     "iopub.execute_input": "2025-03-24T10:22:39.007441Z",
     "iopub.status.busy": "2025-03-24T10:22:39.007130Z",
     "iopub.status.idle": "2025-03-24T10:22:39.043896Z",
     "shell.execute_reply": "2025-03-24T10:22:39.043154Z",
     "shell.execute_reply.started": "2025-03-24T10:22:39.007419Z"
    }
   },
   "outputs": [],
   "source": [
    "n_classes = 24\n",
    "kernel_size = 3\n",
    "flattened_img_size = 75 * 3 * 3\n",
    "\n",
    "model = nn.Sequential(\n",
    "    # First convolution\n",
    "    nn.Conv2d(IMG_CHS, 25, kernel_size, stride=1, padding=1),  # 25 x 28 x 28\n",
    "    nn.BatchNorm2d(25),\n",
    "    nn.ReLU(),\n",
    "    nn.MaxPool2d(2, stride=2),  # 25 x 14 x 14\n",
    "    # Second convolution\n",
    "    nn.Conv2d(25, 50, kernel_size, stride=1, padding=1),  # 50 x 14 x 14\n",
    "    nn.BatchNorm2d(50),\n",
    "    nn.ReLU(),\n",
    "    nn.Dropout(.2),\n",
    "    nn.MaxPool2d(2, stride=2),  # 50 x 7 x 7\n",
    "    # Third convolution\n",
    "    nn.Conv2d(50, 75, kernel_size, stride=1, padding=1),  # 75 x 7 x 7\n",
    "    nn.BatchNorm2d(75),\n",
    "    nn.ReLU(),\n",
    "    nn.MaxPool2d(2, stride=2),  # 75 x 3 x 3\n",
    "    # Flatten to Dense\n",
    "    nn.Flatten(),\n",
    "    nn.Linear(flattened_img_size, 512),\n",
    "    nn.Dropout(.3),\n",
    "    nn.ReLU(),\n",
    "    nn.Linear(512, n_classes)\n",
    ")"
   ]
  },
  {
   "cell_type": "markdown",
   "metadata": {},
   "source": [
    "## <font color=blue>5 训练模型 </font>"
   ]
  },
  {
   "cell_type": "code",
   "execution_count": 11,
   "metadata": {
    "execution": {
     "iopub.execute_input": "2025-03-24T10:22:42.847868Z",
     "iopub.status.busy": "2025-03-24T10:22:42.847490Z",
     "iopub.status.idle": "2025-03-24T10:22:42.852300Z",
     "shell.execute_reply": "2025-03-24T10:22:42.851341Z",
     "shell.execute_reply.started": "2025-03-24T10:22:42.847816Z"
    }
   },
   "outputs": [],
   "source": [
    "def get_batch_accuracy(output, y, N):\n",
    "    pred = output.argmax(dim=1, keepdim=True)\n",
    "    correct = pred.eq(y.view_as(pred)).sum().item()\n",
    "    return correct / N"
   ]
  },
  {
   "cell_type": "code",
   "execution_count": 12,
   "metadata": {
    "execution": {
     "iopub.execute_input": "2025-03-24T10:22:45.739308Z",
     "iopub.status.busy": "2025-03-24T10:22:45.738985Z",
     "iopub.status.idle": "2025-03-24T10:22:45.750048Z",
     "shell.execute_reply": "2025-03-24T10:22:45.749318Z",
     "shell.execute_reply.started": "2025-03-24T10:22:45.739276Z"
    }
   },
   "outputs": [
    {
     "data": {
      "text/plain": [
       "Sequential(\n",
       "  (0): Conv2d(1, 25, kernel_size=(3, 3), stride=(1, 1), padding=(1, 1))\n",
       "  (1): BatchNorm2d(25, eps=1e-05, momentum=0.1, affine=True, track_running_stats=True)\n",
       "  (2): ReLU()\n",
       "  (3): MaxPool2d(kernel_size=2, stride=2, padding=0, dilation=1, ceil_mode=False)\n",
       "  (4): Conv2d(25, 50, kernel_size=(3, 3), stride=(1, 1), padding=(1, 1))\n",
       "  (5): BatchNorm2d(50, eps=1e-05, momentum=0.1, affine=True, track_running_stats=True)\n",
       "  (6): ReLU()\n",
       "  (7): Dropout(p=0.2, inplace=False)\n",
       "  (8): MaxPool2d(kernel_size=2, stride=2, padding=0, dilation=1, ceil_mode=False)\n",
       "  (9): Conv2d(50, 75, kernel_size=(3, 3), stride=(1, 1), padding=(1, 1))\n",
       "  (10): BatchNorm2d(75, eps=1e-05, momentum=0.1, affine=True, track_running_stats=True)\n",
       "  (11): ReLU()\n",
       "  (12): MaxPool2d(kernel_size=2, stride=2, padding=0, dilation=1, ceil_mode=False)\n",
       "  (13): Flatten(start_dim=1, end_dim=-1)\n",
       "  (14): Linear(in_features=675, out_features=512, bias=True)\n",
       "  (15): Dropout(p=0.3, inplace=False)\n",
       "  (16): ReLU()\n",
       "  (17): Linear(in_features=512, out_features=24, bias=True)\n",
       ")"
      ]
     },
     "execution_count": 12,
     "metadata": {},
     "output_type": "execute_result"
    }
   ],
   "source": [
    "model.to(device)"
   ]
  },
  {
   "cell_type": "code",
   "execution_count": 13,
   "metadata": {
    "execution": {
     "iopub.execute_input": "2025-03-24T10:22:48.210060Z",
     "iopub.status.busy": "2025-03-24T10:22:48.209738Z",
     "iopub.status.idle": "2025-03-24T10:22:50.082626Z",
     "shell.execute_reply": "2025-03-24T10:22:50.081944Z",
     "shell.execute_reply.started": "2025-03-24T10:22:48.210035Z"
    }
   },
   "outputs": [],
   "source": [
    "loss_function = nn.CrossEntropyLoss()\n",
    "optimizer = Adam(model.parameters())"
   ]
  },
  {
   "cell_type": "code",
   "execution_count": 14,
   "metadata": {
    "execution": {
     "iopub.execute_input": "2025-03-24T10:22:52.603036Z",
     "iopub.status.busy": "2025-03-24T10:22:52.602549Z",
     "iopub.status.idle": "2025-03-24T10:22:52.607771Z",
     "shell.execute_reply": "2025-03-24T10:22:52.606866Z",
     "shell.execute_reply.started": "2025-03-24T10:22:52.603007Z"
    }
   },
   "outputs": [],
   "source": [
    "def validate():\n",
    "    loss = 0\n",
    "    accuracy = 0\n",
    "\n",
    "    model.eval()\n",
    "    with torch.no_grad():\n",
    "        for x, y in valid_loader:\n",
    "            output = model(x)\n",
    "\n",
    "            loss += loss_function(output, y).item()\n",
    "            accuracy += get_batch_accuracy(output, y, valid_N)\n",
    "    print('Valid - Loss: {:.4f} Accuracy: {:.4f}'.format(loss, accuracy))"
   ]
  },
  {
   "cell_type": "code",
   "execution_count": 17,
   "metadata": {
    "execution": {
     "iopub.execute_input": "2025-03-24T10:23:10.066840Z",
     "iopub.status.busy": "2025-03-24T10:23:10.066526Z",
     "iopub.status.idle": "2025-03-24T10:23:10.071673Z",
     "shell.execute_reply": "2025-03-24T10:23:10.070689Z",
     "shell.execute_reply.started": "2025-03-24T10:23:10.066816Z"
    }
   },
   "outputs": [],
   "source": [
    "def train():\n",
    "    loss = 0\n",
    "    accuracy = 0\n",
    "\n",
    "    model.train()\n",
    "    for x, y in train_loader:\n",
    "        \n",
    "        output = model(x)\n",
    "        optimizer.zero_grad()\n",
    "        \n",
    "        batch_loss = loss_function(output, y)\n",
    "        batch_loss.backward()\n",
    "        optimizer.step()\n",
    "\n",
    "        loss += batch_loss.item()\n",
    "        accuracy += get_batch_accuracy(output, y, train_N)\n",
    "    print('Train - Loss: {:.4f} Accuracy: {:.4f}'.format(loss, accuracy))"
   ]
  },
  {
   "cell_type": "code",
   "execution_count": 18,
   "metadata": {
    "execution": {
     "iopub.execute_input": "2025-03-24T10:23:12.544254Z",
     "iopub.status.busy": "2025-03-24T10:23:12.543949Z",
     "iopub.status.idle": "2025-03-24T10:24:45.201668Z",
     "shell.execute_reply": "2025-03-24T10:24:45.200913Z",
     "shell.execute_reply.started": "2025-03-24T10:23:12.544232Z"
    }
   },
   "outputs": [
    {
     "name": "stdout",
     "output_type": "stream",
     "text": [
      "Epoch: 0\n",
      "Train - Loss: 169.8087 Accuracy: 0.9841\n",
      "Valid - Loss: 178.3278 Accuracy: 0.9315\n",
      "Epoch: 1\n",
      "Train - Loss: 100.2671 Accuracy: 0.9912\n",
      "Valid - Loss: 98.2832 Accuracy: 0.9653\n",
      "Epoch: 2\n",
      "Train - Loss: 58.6416 Accuracy: 0.9946\n",
      "Valid - Loss: 99.5804 Accuracy: 0.9664\n",
      "Epoch: 3\n",
      "Train - Loss: 69.2122 Accuracy: 0.9942\n",
      "Valid - Loss: 249.3665 Accuracy: 0.9373\n",
      "Epoch: 4\n",
      "Train - Loss: 49.6674 Accuracy: 0.9956\n",
      "Valid - Loss: 138.5586 Accuracy: 0.9704\n"
     ]
    }
   ],
   "source": [
    "epochs = 5\n",
    "\n",
    "for epoch in range(epochs):\n",
    "    print('Epoch: {}'.format(epoch))\n",
    "    train()\n",
    "    validate()"
   ]
  }
 ],
 "metadata": {
  "kaggle": {
   "accelerator": "nvidiaTeslaT4",
   "dataSources": [
    {
     "datasetId": 6953718,
     "sourceId": 11146644,
     "sourceType": "datasetVersion"
    }
   ],
   "dockerImageVersionId": 30919,
   "isGpuEnabled": true,
   "isInternetEnabled": true,
   "language": "python",
   "sourceType": "notebook"
  },
  "kernelspec": {
   "display_name": "Python 3 (ipykernel)",
   "language": "python",
   "name": "python3"
  },
  "language_info": {
   "codemirror_mode": {
    "name": "ipython",
    "version": 3
   },
   "file_extension": ".py",
   "mimetype": "text/x-python",
   "name": "python",
   "nbconvert_exporter": "python",
   "pygments_lexer": "ipython3",
   "version": "3.10.13"
  }
 },
 "nbformat": 4,
 "nbformat_minor": 4
}
